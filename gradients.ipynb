{
 "cells": [
  {
   "cell_type": "code",
   "execution_count": 1,
   "id": "f09e31ab-4caa-496b-ad46-700165ebc61c",
   "metadata": {
    "tags": []
   },
   "outputs": [],
   "source": [
    "import tensorflow as tf\n",
    "import matplotlib.pyplot as plt"
   ]
  },
  {
   "cell_type": "markdown",
   "id": "ea660bde-e123-4756-94c4-82fbca63576d",
   "metadata": {
    "id": "Wpjp7YUFSn3R"
   },
   "source": [
    "First of all let's compute the gradient of a function that we know its gradient. \\\n",
    "$y=x^2$  \\\n",
    "$\\frac{dy}{dx}=2x$"
   ]
  },
  {
   "cell_type": "code",
   "execution_count": 18,
   "id": "67a19cb0-f484-4b2b-81eb-078531f17e11",
   "metadata": {
    "tags": []
   },
   "outputs": [],
   "source": [
    "X = tf.Variable(3.0)"
   ]
  },
  {
   "cell_type": "code",
   "execution_count": 24,
   "id": "2316afde-7cea-4e82-a73e-b4a0029294eb",
   "metadata": {
    "tags": []
   },
   "outputs": [],
   "source": [
    "with tf.GradientTape() as tape:\n",
    "    y = X**2\n",
    "\n",
    "grade = tape.gradient(y,X)"
   ]
  },
  {
   "cell_type": "code",
   "execution_count": 25,
   "id": "c0669560-ecb4-4782-ba3a-81d164bd5ca2",
   "metadata": {
    "tags": []
   },
   "outputs": [
    {
     "data": {
      "text/plain": [
       "<tf.Tensor: shape=(), dtype=float32, numpy=0.6000000238418579>"
      ]
     },
     "execution_count": 25,
     "metadata": {},
     "output_type": "execute_result"
    }
   ],
   "source": [
    "grade"
   ]
  },
  {
   "cell_type": "markdown",
   "id": "15216046-1aea-4f8b-9a66-a5453eada219",
   "metadata": {
    "tags": []
   },
   "source": [
    "If it is defined as fixed and unchangeable like below, then this context manager will not work."
   ]
  },
  {
   "cell_type": "code",
   "execution_count": 28,
   "id": "92456338-73ac-47e7-a16d-1193bca557e3",
   "metadata": {
    "tags": []
   },
   "outputs": [],
   "source": [
    "X = tf.constant(3.0)"
   ]
  },
  {
   "cell_type": "code",
   "execution_count": 31,
   "id": "0e5b0cc6-db0c-46b1-9152-9a2ff5baae0d",
   "metadata": {
    "tags": []
   },
   "outputs": [],
   "source": [
    "with tf.GradientTape() as tape:\n",
    "    y = X**2\n",
    "\n",
    "grade = tape.gradient(y,X)\n",
    "grade"
   ]
  },
  {
   "cell_type": "markdown",
   "id": "9aa94fcb-0c0b-46e9-a1fd-be66d0dd72c0",
   "metadata": {},
   "source": [
    "But if you need to use this model somewhere, you can add the following statement, which means “pay attention to this variable—I intend to work on it and make it mutable.”"
   ]
  },
  {
   "cell_type": "code",
   "execution_count": 37,
   "id": "59d2b082-80aa-4291-bd9a-a8cdbeac3beb",
   "metadata": {
    "tags": []
   },
   "outputs": [
    {
     "data": {
      "text/plain": [
       "<tf.Tensor: shape=(), dtype=float32, numpy=6.0>"
      ]
     },
     "execution_count": 37,
     "metadata": {},
     "output_type": "execute_result"
    }
   ],
   "source": [
    "X = tf.constant(3.0)\n",
    "\n",
    "with tf.GradientTape() as ta:\n",
    "    ta.watch(X)\n",
    "    y = X**2\n",
    "\n",
    "grade = ta.gradient(y,X)\n",
    "grade"
   ]
  },
  {
   "cell_type": "code",
   "execution_count": 38,
   "id": "f6355ee5-2747-430e-9aa8-f32a1b3d00a3",
   "metadata": {
    "tags": []
   },
   "outputs": [],
   "source": [
    "X = tf.linspace(-10, 10 ,201)\n",
    "\n",
    "with tf.GradientTape() as ta :\n",
    "    ta.watch(X)\n",
    "    y = tf.sigmoid(X)\n",
    "\n",
    "dy_dx = ta.gradient(y,X)"
   ]
  },
  {
   "cell_type": "code",
   "execution_count": 41,
   "id": "0edf6ab6-5329-4220-9451-50185d02c938",
   "metadata": {
    "collapsed": true,
    "jupyter": {
     "outputs_hidden": true
    },
    "tags": []
   },
   "outputs": [
    {
     "data": {
      "text/plain": [
       "<tf.Tensor: shape=(201,), dtype=float64, numpy=\n",
       "array([-10. ,  -9.9,  -9.8,  -9.7,  -9.6,  -9.5,  -9.4,  -9.3,  -9.2,\n",
       "        -9.1,  -9. ,  -8.9,  -8.8,  -8.7,  -8.6,  -8.5,  -8.4,  -8.3,\n",
       "        -8.2,  -8.1,  -8. ,  -7.9,  -7.8,  -7.7,  -7.6,  -7.5,  -7.4,\n",
       "        -7.3,  -7.2,  -7.1,  -7. ,  -6.9,  -6.8,  -6.7,  -6.6,  -6.5,\n",
       "        -6.4,  -6.3,  -6.2,  -6.1,  -6. ,  -5.9,  -5.8,  -5.7,  -5.6,\n",
       "        -5.5,  -5.4,  -5.3,  -5.2,  -5.1,  -5. ,  -4.9,  -4.8,  -4.7,\n",
       "        -4.6,  -4.5,  -4.4,  -4.3,  -4.2,  -4.1,  -4. ,  -3.9,  -3.8,\n",
       "        -3.7,  -3.6,  -3.5,  -3.4,  -3.3,  -3.2,  -3.1,  -3. ,  -2.9,\n",
       "        -2.8,  -2.7,  -2.6,  -2.5,  -2.4,  -2.3,  -2.2,  -2.1,  -2. ,\n",
       "        -1.9,  -1.8,  -1.7,  -1.6,  -1.5,  -1.4,  -1.3,  -1.2,  -1.1,\n",
       "        -1. ,  -0.9,  -0.8,  -0.7,  -0.6,  -0.5,  -0.4,  -0.3,  -0.2,\n",
       "        -0.1,   0. ,   0.1,   0.2,   0.3,   0.4,   0.5,   0.6,   0.7,\n",
       "         0.8,   0.9,   1. ,   1.1,   1.2,   1.3,   1.4,   1.5,   1.6,\n",
       "         1.7,   1.8,   1.9,   2. ,   2.1,   2.2,   2.3,   2.4,   2.5,\n",
       "         2.6,   2.7,   2.8,   2.9,   3. ,   3.1,   3.2,   3.3,   3.4,\n",
       "         3.5,   3.6,   3.7,   3.8,   3.9,   4. ,   4.1,   4.2,   4.3,\n",
       "         4.4,   4.5,   4.6,   4.7,   4.8,   4.9,   5. ,   5.1,   5.2,\n",
       "         5.3,   5.4,   5.5,   5.6,   5.7,   5.8,   5.9,   6. ,   6.1,\n",
       "         6.2,   6.3,   6.4,   6.5,   6.6,   6.7,   6.8,   6.9,   7. ,\n",
       "         7.1,   7.2,   7.3,   7.4,   7.5,   7.6,   7.7,   7.8,   7.9,\n",
       "         8. ,   8.1,   8.2,   8.3,   8.4,   8.5,   8.6,   8.7,   8.8,\n",
       "         8.9,   9. ,   9.1,   9.2,   9.3,   9.4,   9.5,   9.6,   9.7,\n",
       "         9.8,   9.9,  10. ])>"
      ]
     },
     "execution_count": 41,
     "metadata": {},
     "output_type": "execute_result"
    }
   ],
   "source": [
    "dy_dx\n",
    "X"
   ]
  },
  {
   "cell_type": "code",
   "execution_count": 49,
   "id": "316d2395-0603-4c32-8613-d93d57ffc7e7",
   "metadata": {
    "tags": []
   },
   "outputs": [
    {
     "data": {
      "text/plain": [
       "<function matplotlib.pyplot.show(close=None, block=None)>"
      ]
     },
     "execution_count": 49,
     "metadata": {},
     "output_type": "execute_result"
    },
    {
     "data": {
      "image/png": "[encoded data removed]",
      "text/plain": [
       "<Figure size 640x480 with 1 Axes>"
      ]
     },
     "metadata": {},
     "output_type": "display_data"
    }
   ],
   "source": [
    "plt.plot(X,y,label = '-y')\n",
    "plt.plot(X,dy_dx,label = 'dy_dx')\n",
    "plt.legend()\n",
    "_ = plt.xlabel('x')\n",
    "plt.show"
   ]
  },
  {
   "cell_type": "code",
   "execution_count": 65,
   "id": "5d7d4528-f26c-4e93-9525-c2d9506b5d1f",
   "metadata": {
    "tags": []
   },
   "outputs": [],
   "source": [
    "w = tf.Variable(tf.random.normal((3,2)),name= 'w')\n",
    "b = tf.Variable(tf.zeros((2,2),dtype = tf.float32),name= 'b' )\n",
    "x = [[3.,5.,6.]]\n",
    "with tf.GradientTape(persistent=True) as tape:\n",
    "    y = x @ w + b\n",
    "    loss = tf.reduce_mean(y**2)\n",
    "    \n",
    "[dloss_dw, dloss_db] = tape.gradient(loss,[w,b])"
   ]
  },
  {
   "cell_type": "code",
   "execution_count": 66,
   "id": "3d7e1d5b-9897-49f5-b92c-1f592ccefa8e",
   "metadata": {
    "tags": []
   },
   "outputs": [
    {
     "data": {
      "text/plain": [
       "<tf.Tensor: shape=(3, 2), dtype=float32, numpy=\n",
       "array([[  5.8156505, -32.630913 ],\n",
       "       [  9.692751 , -54.384857 ],\n",
       "       [ 11.631301 , -65.261826 ]], dtype=float32)>"
      ]
     },
     "execution_count": 66,
     "metadata": {},
     "output_type": "execute_result"
    }
   ],
   "source": [
    "dloss_dw"
   ]
  },
  {
   "cell_type": "code",
   "execution_count": 67,
   "id": "a07f658f-29d6-44bf-a708-cf4922921fc8",
   "metadata": {
    "tags": []
   },
   "outputs": [
    {
     "data": {
      "text/plain": [
       "<tf.Tensor: shape=(2, 2), dtype=float32, numpy=\n",
       "array([[ 0.96927506, -5.4384856 ],\n",
       "       [ 0.96927506, -5.4384856 ]], dtype=float32)>"
      ]
     },
     "execution_count": 67,
     "metadata": {},
     "output_type": "execute_result"
    }
   ],
   "source": [
    "dloss_db"
   ]
  },
  {
   "cell_type": "code",
   "execution_count": 68,
   "id": "3c69848a-3803-42e9-adce-598802ddb966",
   "metadata": {
    "tags": []
   },
   "outputs": [
    {
     "name": "stdout",
     "output_type": "stream",
     "text": [
      "[2. 6.]\n",
      "[  4. 108.]\n"
     ]
    }
   ],
   "source": [
    "x = tf.constant([1.,3.])\n",
    "with tf.GradientTape(persistent=True) as tape:\n",
    "    tape.watch(x)\n",
    "    y = x*x\n",
    "    z = y*y\n",
    "    \n",
    "print(tape.gradient(y,x).numpy())\n",
    "print(tape.gradient(z,x).numpy())"
   ]
  },
  {
   "cell_type": "code",
   "execution_count": 10,
   "id": "75191db2-2e53-4157-8ba8-ed7f3bfe2060",
   "metadata": {},
   "outputs": [],
   "source": [
    "w = tf.random.normal( shape=(3,2),dtype=tf.float32)\n",
    "b = tf.zeros(shape = (2,2), dtype=tf.float32)\n",
    "x = [[3.0,2.0,5.0]]\n",
    "\n",
    "with tf.GradientTape() as tape:\n",
    "    tape.watch([w,b])\n",
    "    y = x@w + b\n",
    "    loss = tf.reduce_mean(y**2)\n",
    "\n",
    "dloss_w , dloss_b = tape.gradient(loss,[w,b])"
   ]
  },
  {
   "cell_type": "code",
   "execution_count": 15,
   "id": "17f58b98-51f7-4213-9ca1-67b1762a6c33",
   "metadata": {
    "tags": []
   },
   "outputs": [
    {
     "data": {
      "text/plain": [
       "<tf.Tensor: shape=(3, 2), dtype=float32, numpy=\n",
       "array([[ 14.085168, -17.578655],\n",
       "       [  9.390112, -11.719104],\n",
       "       [ 23.47528 , -29.29776 ]], dtype=float32)>"
      ]
     },
     "execution_count": 15,
     "metadata": {},
     "output_type": "execute_result"
    }
   ],
   "source": [
    "dloss_w"
   ]
  },
  {
   "cell_type": "code",
   "execution_count": 16,
   "id": "3c6c00db-1c4c-431c-98b6-7580b66c9ed8",
   "metadata": {
    "tags": []
   },
   "outputs": [],
   "source": [
    "w = tf.Variable(tf.random.normal( shape=(3,2),dtype=tf.float32))\n",
    "b = tf.Variable(tf.zeros(shape = (2,2), dtype=tf.float32))\n",
    "x = [[3.0,2.0,5.0]]\n",
    "\n",
    "with tf.GradientTape() as tape:\n",
    "    y = x@w + b\n",
    "    loss = tf.reduce_mean(y**2)\n",
    "\n",
    "dloss_w , dloss_b = tape.gradient(loss,[w,b])"
   ]
  },
  {
   "cell_type": "code",
   "execution_count": 17,
   "id": "6ecff0fd-f04e-45eb-8055-58ef951bcf90",
   "metadata": {
    "tags": []
   },
   "outputs": [
    {
     "data": {
      "text/plain": [
       "<tf.Tensor: shape=(3, 2), dtype=float32, numpy=\n",
       "array([[10.378531,  9.392876],\n",
       "       [ 6.919021,  6.261917],\n",
       "       [17.297552, 15.654793]], dtype=float32)>"
      ]
     },
     "execution_count": 17,
     "metadata": {},
     "output_type": "execute_result"
    }
   ],
   "source": [
    "dloss_w"
   ]
  },
  {
   "cell_type": "code",
   "execution_count": null,
   "id": "fbb1f1ff-3e68-466f-bf27-63da5e60419d",
   "metadata": {},
   "outputs": [],
   "source": []
  }
 ],
 "metadata": {
  "kernelspec": {
   "display_name": "Python 3 (ipykernel)",
   "language": "python",
   "name": "python3"
  },
  "language_info": {
   "codemirror_mode": {
    "name": "ipython",
    "version": 3
   },
   "file_extension": ".py",
   "mimetype": "text/x-python",
   "name": "python",
   "nbconvert_exporter": "python",
   "pygments_lexer": "ipython3",
   "version": "3.10.14"
  }
 },
 "nbformat": 4,
 "nbformat_minor": 5
}
